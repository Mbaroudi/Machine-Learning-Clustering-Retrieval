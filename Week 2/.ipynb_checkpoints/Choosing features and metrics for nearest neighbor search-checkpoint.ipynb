{
 "cells": [
  {
   "cell_type": "markdown",
   "metadata": {},
   "source": [
    "# Choosing features and metrics for nearest neighbor search"
   ]
  },
  {
   "cell_type": "markdown",
   "metadata": {},
   "source": [
    "## Import packages"
   ]
  },
  {
   "cell_type": "code",
   "execution_count": 1,
   "metadata": {
    "collapsed": false
   },
   "outputs": [],
   "source": [
    "import pandas as pd\n",
    "import numpy as np\n",
    "import matplotlib.pyplot as plt\n",
    "from scipy.sparse import csr_matrix\n",
    "%matplotlib inline"
   ]
  },
  {
   "cell_type": "markdown",
   "metadata": {},
   "source": [
    "## Load in the dataset"
   ]
  },
  {
   "cell_type": "code",
   "execution_count": 2,
   "metadata": {
    "collapsed": false
   },
   "outputs": [
    {
     "data": {
      "text/html": [
       "<div>\n",
       "<table border=\"1\" class=\"dataframe\">\n",
       "  <thead>\n",
       "    <tr style=\"text-align: right;\">\n",
       "      <th></th>\n",
       "      <th>URI</th>\n",
       "      <th>name</th>\n",
       "      <th>text</th>\n",
       "      <th>id</th>\n",
       "    </tr>\n",
       "  </thead>\n",
       "  <tbody>\n",
       "    <tr>\n",
       "      <th>0</th>\n",
       "      <td>&lt;http://dbpedia.org/resource/Digby_Morrell&gt;</td>\n",
       "      <td>Digby Morrell</td>\n",
       "      <td>digby morrell born 10 october 1979 is a former...</td>\n",
       "      <td>0</td>\n",
       "    </tr>\n",
       "    <tr>\n",
       "      <th>1</th>\n",
       "      <td>&lt;http://dbpedia.org/resource/Alfred_J._Lewy&gt;</td>\n",
       "      <td>Alfred J. Lewy</td>\n",
       "      <td>alfred j lewy aka sandy lewy graduated from un...</td>\n",
       "      <td>1</td>\n",
       "    </tr>\n",
       "    <tr>\n",
       "      <th>2</th>\n",
       "      <td>&lt;http://dbpedia.org/resource/Harpdog_Brown&gt;</td>\n",
       "      <td>Harpdog Brown</td>\n",
       "      <td>harpdog brown is a singer and harmonica player...</td>\n",
       "      <td>2</td>\n",
       "    </tr>\n",
       "    <tr>\n",
       "      <th>3</th>\n",
       "      <td>&lt;http://dbpedia.org/resource/Franz_Rottensteiner&gt;</td>\n",
       "      <td>Franz Rottensteiner</td>\n",
       "      <td>franz rottensteiner born in waidmannsfeld lowe...</td>\n",
       "      <td>3</td>\n",
       "    </tr>\n",
       "    <tr>\n",
       "      <th>4</th>\n",
       "      <td>&lt;http://dbpedia.org/resource/G-Enka&gt;</td>\n",
       "      <td>G-Enka</td>\n",
       "      <td>henry krvits born 30 december 1974 in tallinn ...</td>\n",
       "      <td>4</td>\n",
       "    </tr>\n",
       "  </tbody>\n",
       "</table>\n",
       "</div>"
      ],
      "text/plain": [
       "                                                 URI                 name  \\\n",
       "0        <http://dbpedia.org/resource/Digby_Morrell>        Digby Morrell   \n",
       "1       <http://dbpedia.org/resource/Alfred_J._Lewy>       Alfred J. Lewy   \n",
       "2        <http://dbpedia.org/resource/Harpdog_Brown>        Harpdog Brown   \n",
       "3  <http://dbpedia.org/resource/Franz_Rottensteiner>  Franz Rottensteiner   \n",
       "4               <http://dbpedia.org/resource/G-Enka>               G-Enka   \n",
       "\n",
       "                                                text  id  \n",
       "0  digby morrell born 10 october 1979 is a former...   0  \n",
       "1  alfred j lewy aka sandy lewy graduated from un...   1  \n",
       "2  harpdog brown is a singer and harmonica player...   2  \n",
       "3  franz rottensteiner born in waidmannsfeld lowe...   3  \n",
       "4  henry krvits born 30 december 1974 in tallinn ...   4  "
      ]
     },
     "execution_count": 2,
     "metadata": {},
     "output_type": "execute_result"
    }
   ],
   "source": [
    "wiki = pd.read_csv('people_wiki.csv')\n",
    "# add id column\n",
    "wiki['id'] = range(0, len(wiki))\n",
    "wiki.head()"
   ]
  },
  {
   "cell_type": "markdown",
   "metadata": {},
   "source": [
    "## Extract word count vectors"
   ]
  },
  {
   "cell_type": "code",
   "execution_count": 3,
   "metadata": {
    "collapsed": true
   },
   "outputs": [],
   "source": [
    "def load_sparse_csr(filename):\n",
    "    loader = np.load(filename)\n",
    "    data = loader['data']\n",
    "    indices = loader['indices']\n",
    "    indptr = loader['indptr']\n",
    "    shape = loader['shape']\n",
    "    \n",
    "    return csr_matrix( (data, indices, indptr), shape)"
   ]
  },
  {
   "cell_type": "code",
   "execution_count": 4,
   "metadata": {
    "collapsed": false
   },
   "outputs": [],
   "source": [
    "word_count = load_sparse_csr('people_wiki_word_count.npz')"
   ]
  },
  {
   "cell_type": "code",
   "execution_count": 5,
   "metadata": {
    "collapsed": false
   },
   "outputs": [
    {
     "data": {
      "text/html": [
       "<div>\n",
       "<table border=\"1\" class=\"dataframe\">\n",
       "  <thead>\n",
       "    <tr style=\"text-align: right;\">\n",
       "      <th></th>\n",
       "      <th>index</th>\n",
       "      <th>category</th>\n",
       "    </tr>\n",
       "  </thead>\n",
       "  <tbody>\n",
       "    <tr>\n",
       "      <th>0</th>\n",
       "      <td>540315</td>\n",
       "      <td>0</td>\n",
       "    </tr>\n",
       "    <tr>\n",
       "      <th>00</th>\n",
       "      <td>536260</td>\n",
       "      <td>00</td>\n",
       "    </tr>\n",
       "    <tr>\n",
       "      <th>000</th>\n",
       "      <td>535641</td>\n",
       "      <td>000</td>\n",
       "    </tr>\n",
       "    <tr>\n",
       "      <th>0000</th>\n",
       "      <td>83348</td>\n",
       "      <td>0000</td>\n",
       "    </tr>\n",
       "    <tr>\n",
       "      <th>00000</th>\n",
       "      <td>81527</td>\n",
       "      <td>00000</td>\n",
       "    </tr>\n",
       "  </tbody>\n",
       "</table>\n",
       "</div>"
      ],
      "text/plain": [
       "        index category\n",
       "0      540315        0\n",
       "00     536260       00\n",
       "000    535641      000\n",
       "0000    83348     0000\n",
       "00000   81527    00000"
      ]
     },
     "execution_count": 5,
     "metadata": {},
     "output_type": "execute_result"
    }
   ],
   "source": [
    "# map_index_to_word = pd.read_json('people_wiki_map_index_to_word.json', orient='records')\n",
    "import json\n",
    "\n",
    "with open('people_wiki_map_index_to_word.json') as json_data:\n",
    "    data = json.load(json_data)\n",
    "\n",
    "map_index_to_word = pd.DataFrame(data, index=[0]).T\n",
    "map_index_to_word.columns = ['index']\n",
    "map_index_to_word['category'] = map_index_to_word.index\n",
    "map_index_to_word.head()"
   ]
  },
  {
   "cell_type": "markdown",
   "metadata": {},
   "source": [
    "## Find nearest neighbors using word count vectors"
   ]
  },
  {
   "cell_type": "code",
   "execution_count": 6,
   "metadata": {
    "collapsed": false
   },
   "outputs": [],
   "source": [
    "from sklearn.neighbors import NearestNeighbors\n",
    "\n",
    "model = NearestNeighbors(metric='euclidean', algorithm='brute')\n",
    "nbrs = model.fit(word_count)"
   ]
  },
  {
   "cell_type": "code",
   "execution_count": 7,
   "metadata": {
    "collapsed": false
   },
   "outputs": [
    {
     "data": {
      "text/html": [
       "<div>\n",
       "<table border=\"1\" class=\"dataframe\">\n",
       "  <thead>\n",
       "    <tr style=\"text-align: right;\">\n",
       "      <th></th>\n",
       "      <th>URI</th>\n",
       "      <th>name</th>\n",
       "      <th>text</th>\n",
       "      <th>id</th>\n",
       "    </tr>\n",
       "  </thead>\n",
       "  <tbody>\n",
       "    <tr>\n",
       "      <th>35817</th>\n",
       "      <td>&lt;http://dbpedia.org/resource/Barack_Obama&gt;</td>\n",
       "      <td>Barack Obama</td>\n",
       "      <td>barack hussein obama ii brk husen bm born augu...</td>\n",
       "      <td>35817</td>\n",
       "    </tr>\n",
       "  </tbody>\n",
       "</table>\n",
       "</div>"
      ],
      "text/plain": [
       "                                              URI          name  \\\n",
       "35817  <http://dbpedia.org/resource/Barack_Obama>  Barack Obama   \n",
       "\n",
       "                                                    text     id  \n",
       "35817  barack hussein obama ii brk husen bm born augu...  35817  "
      ]
     },
     "execution_count": 7,
     "metadata": {},
     "output_type": "execute_result"
    }
   ],
   "source": [
    "wiki[wiki['name'] == 'Barack Obama']"
   ]
  },
  {
   "cell_type": "code",
   "execution_count": 8,
   "metadata": {
    "collapsed": true
   },
   "outputs": [],
   "source": [
    "distances, indices = nbrs.kneighbors(word_count[35817], n_neighbors=10) # 1st arg: word count vector"
   ]
  },
  {
   "cell_type": "code",
   "execution_count": 9,
   "metadata": {
    "collapsed": false
   },
   "outputs": [
    {
     "data": {
      "text/html": [
       "<div>\n",
       "<table border=\"1\" class=\"dataframe\">\n",
       "  <thead>\n",
       "    <tr style=\"text-align: right;\">\n",
       "      <th></th>\n",
       "      <th>distance</th>\n",
       "      <th>id</th>\n",
       "    </tr>\n",
       "  </thead>\n",
       "  <tbody>\n",
       "    <tr>\n",
       "      <th>0</th>\n",
       "      <td>0.000000</td>\n",
       "      <td>35817</td>\n",
       "    </tr>\n",
       "    <tr>\n",
       "      <th>1</th>\n",
       "      <td>33.075671</td>\n",
       "      <td>24478</td>\n",
       "    </tr>\n",
       "    <tr>\n",
       "      <th>2</th>\n",
       "      <td>34.394767</td>\n",
       "      <td>28447</td>\n",
       "    </tr>\n",
       "    <tr>\n",
       "      <th>3</th>\n",
       "      <td>36.152455</td>\n",
       "      <td>35357</td>\n",
       "    </tr>\n",
       "    <tr>\n",
       "      <th>4</th>\n",
       "      <td>36.166283</td>\n",
       "      <td>14754</td>\n",
       "    </tr>\n",
       "    <tr>\n",
       "      <th>5</th>\n",
       "      <td>36.331804</td>\n",
       "      <td>13229</td>\n",
       "    </tr>\n",
       "    <tr>\n",
       "      <th>6</th>\n",
       "      <td>36.400549</td>\n",
       "      <td>31423</td>\n",
       "    </tr>\n",
       "    <tr>\n",
       "      <th>7</th>\n",
       "      <td>36.496575</td>\n",
       "      <td>22745</td>\n",
       "    </tr>\n",
       "    <tr>\n",
       "      <th>8</th>\n",
       "      <td>36.633318</td>\n",
       "      <td>36364</td>\n",
       "    </tr>\n",
       "    <tr>\n",
       "      <th>9</th>\n",
       "      <td>36.959437</td>\n",
       "      <td>9210</td>\n",
       "    </tr>\n",
       "  </tbody>\n",
       "</table>\n",
       "</div>"
      ],
      "text/plain": [
       "    distance     id\n",
       "0   0.000000  35817\n",
       "1  33.075671  24478\n",
       "2  34.394767  28447\n",
       "3  36.152455  35357\n",
       "4  36.166283  14754\n",
       "5  36.331804  13229\n",
       "6  36.400549  31423\n",
       "7  36.496575  22745\n",
       "8  36.633318  36364\n",
       "9  36.959437   9210"
      ]
     },
     "execution_count": 9,
     "metadata": {},
     "output_type": "execute_result"
    }
   ],
   "source": [
    "neighbors = pd.DataFrame({'distance':distances.flatten(), 'id':indices.flatten()})\n",
    "neighbors"
   ]
  },
  {
   "cell_type": "code",
   "execution_count": 10,
   "metadata": {
    "collapsed": false
   },
   "outputs": [
    {
     "data": {
      "text/html": [
       "<div>\n",
       "<table border=\"1\" class=\"dataframe\">\n",
       "  <thead>\n",
       "    <tr style=\"text-align: right;\">\n",
       "      <th></th>\n",
       "      <th>id</th>\n",
       "      <th>name</th>\n",
       "      <th>distance</th>\n",
       "    </tr>\n",
       "  </thead>\n",
       "  <tbody>\n",
       "    <tr>\n",
       "      <th>8</th>\n",
       "      <td>35817</td>\n",
       "      <td>Barack Obama</td>\n",
       "      <td>0.000000</td>\n",
       "    </tr>\n",
       "    <tr>\n",
       "      <th>4</th>\n",
       "      <td>24478</td>\n",
       "      <td>Joe Biden</td>\n",
       "      <td>33.075671</td>\n",
       "    </tr>\n",
       "    <tr>\n",
       "      <th>5</th>\n",
       "      <td>28447</td>\n",
       "      <td>George W. Bush</td>\n",
       "      <td>34.394767</td>\n",
       "    </tr>\n",
       "    <tr>\n",
       "      <th>7</th>\n",
       "      <td>35357</td>\n",
       "      <td>Lawrence Summers</td>\n",
       "      <td>36.152455</td>\n",
       "    </tr>\n",
       "    <tr>\n",
       "      <th>2</th>\n",
       "      <td>14754</td>\n",
       "      <td>Mitt Romney</td>\n",
       "      <td>36.166283</td>\n",
       "    </tr>\n",
       "    <tr>\n",
       "      <th>1</th>\n",
       "      <td>13229</td>\n",
       "      <td>Francisco Barrio</td>\n",
       "      <td>36.331804</td>\n",
       "    </tr>\n",
       "    <tr>\n",
       "      <th>6</th>\n",
       "      <td>31423</td>\n",
       "      <td>Walter Mondale</td>\n",
       "      <td>36.400549</td>\n",
       "    </tr>\n",
       "    <tr>\n",
       "      <th>3</th>\n",
       "      <td>22745</td>\n",
       "      <td>Wynn Normington Hugh-Jones</td>\n",
       "      <td>36.496575</td>\n",
       "    </tr>\n",
       "    <tr>\n",
       "      <th>9</th>\n",
       "      <td>36364</td>\n",
       "      <td>Don Bonker</td>\n",
       "      <td>36.633318</td>\n",
       "    </tr>\n",
       "    <tr>\n",
       "      <th>0</th>\n",
       "      <td>9210</td>\n",
       "      <td>Andy Anstett</td>\n",
       "      <td>36.959437</td>\n",
       "    </tr>\n",
       "  </tbody>\n",
       "</table>\n",
       "</div>"
      ],
      "text/plain": [
       "      id                        name   distance\n",
       "8  35817                Barack Obama   0.000000\n",
       "4  24478                   Joe Biden  33.075671\n",
       "5  28447              George W. Bush  34.394767\n",
       "7  35357            Lawrence Summers  36.152455\n",
       "2  14754                 Mitt Romney  36.166283\n",
       "1  13229            Francisco Barrio  36.331804\n",
       "6  31423              Walter Mondale  36.400549\n",
       "3  22745  Wynn Normington Hugh-Jones  36.496575\n",
       "9  36364                  Don Bonker  36.633318\n",
       "0   9210                Andy Anstett  36.959437"
      ]
     },
     "execution_count": 10,
     "metadata": {},
     "output_type": "execute_result"
    }
   ],
   "source": [
    "wiki.merge(neighbors, on='id').sort_values('distance')[['id','name','distance']]"
   ]
  },
  {
   "cell_type": "markdown",
   "metadata": {},
   "source": [
    "## Interpreting the nearest neighbors"
   ]
  },
  {
   "cell_type": "code",
   "execution_count": 11,
   "metadata": {
    "collapsed": false
   },
   "outputs": [
    {
     "data": {
      "text/html": [
       "<div>\n",
       "<table border=\"1\" class=\"dataframe\">\n",
       "  <thead>\n",
       "    <tr style=\"text-align: right;\">\n",
       "      <th></th>\n",
       "      <th>URI</th>\n",
       "      <th>name</th>\n",
       "      <th>text</th>\n",
       "      <th>id</th>\n",
       "      <th>word_count</th>\n",
       "    </tr>\n",
       "  </thead>\n",
       "  <tbody>\n",
       "    <tr>\n",
       "      <th>0</th>\n",
       "      <td>&lt;http://dbpedia.org/resource/Digby_Morrell&gt;</td>\n",
       "      <td>Digby Morrell</td>\n",
       "      <td>digby morrell born 10 october 1979 is a former...</td>\n",
       "      <td>0</td>\n",
       "      <td>{'has': 1, '19982000': 1, 'the': 27, 'forward'...</td>\n",
       "    </tr>\n",
       "    <tr>\n",
       "      <th>1</th>\n",
       "      <td>&lt;http://dbpedia.org/resource/Alfred_J._Lewy&gt;</td>\n",
       "      <td>Alfred J. Lewy</td>\n",
       "      <td>alfred j lewy aka sandy lewy graduated from un...</td>\n",
       "      <td>1</td>\n",
       "      <td>{'shifts': 2, '1973': 1, 'current': 1, 'assess...</td>\n",
       "    </tr>\n",
       "    <tr>\n",
       "      <th>2</th>\n",
       "      <td>&lt;http://dbpedia.org/resource/Harpdog_Brown&gt;</td>\n",
       "      <td>Harpdog Brown</td>\n",
       "      <td>harpdog brown is a singer and harmonica player...</td>\n",
       "      <td>2</td>\n",
       "      <td>{'has': 2, 'what': 2, 'small': 1, 'vancouver':...</td>\n",
       "    </tr>\n",
       "    <tr>\n",
       "      <th>3</th>\n",
       "      <td>&lt;http://dbpedia.org/resource/Franz_Rottensteiner&gt;</td>\n",
       "      <td>Franz Rottensteiner</td>\n",
       "      <td>franz rottensteiner born in waidmannsfeld lowe...</td>\n",
       "      <td>3</td>\n",
       "      <td>{'1973': 1, 'american': 1, 'hg': 1, 'andersona...</td>\n",
       "    </tr>\n",
       "    <tr>\n",
       "      <th>4</th>\n",
       "      <td>&lt;http://dbpedia.org/resource/G-Enka&gt;</td>\n",
       "      <td>G-Enka</td>\n",
       "      <td>henry krvits born 30 december 1974 in tallinn ...</td>\n",
       "      <td>4</td>\n",
       "      <td>{'next': 1, 'new': 1, 'record': 2, 'of': 1, 'k...</td>\n",
       "    </tr>\n",
       "  </tbody>\n",
       "</table>\n",
       "</div>"
      ],
      "text/plain": [
       "                                                 URI                 name  \\\n",
       "0        <http://dbpedia.org/resource/Digby_Morrell>        Digby Morrell   \n",
       "1       <http://dbpedia.org/resource/Alfred_J._Lewy>       Alfred J. Lewy   \n",
       "2        <http://dbpedia.org/resource/Harpdog_Brown>        Harpdog Brown   \n",
       "3  <http://dbpedia.org/resource/Franz_Rottensteiner>  Franz Rottensteiner   \n",
       "4               <http://dbpedia.org/resource/G-Enka>               G-Enka   \n",
       "\n",
       "                                                text  id  \\\n",
       "0  digby morrell born 10 october 1979 is a former...   0   \n",
       "1  alfred j lewy aka sandy lewy graduated from un...   1   \n",
       "2  harpdog brown is a singer and harmonica player...   2   \n",
       "3  franz rottensteiner born in waidmannsfeld lowe...   3   \n",
       "4  henry krvits born 30 december 1974 in tallinn ...   4   \n",
       "\n",
       "                                          word_count  \n",
       "0  {'has': 1, '19982000': 1, 'the': 27, 'forward'...  \n",
       "1  {'shifts': 2, '1973': 1, 'current': 1, 'assess...  \n",
       "2  {'has': 2, 'what': 2, 'small': 1, 'vancouver':...  \n",
       "3  {'1973': 1, 'american': 1, 'hg': 1, 'andersona...  \n",
       "4  {'next': 1, 'new': 1, 'record': 2, 'of': 1, 'k...  "
      ]
     },
     "execution_count": 11,
     "metadata": {},
     "output_type": "execute_result"
    }
   ],
   "source": [
    "def unpack_dict(matrix, map_index_to_word):\n",
    "    table = list(map_index_to_word.sort_values('index')['category'])\n",
    "    data = matrix.data\n",
    "    indices = matrix.indices\n",
    "    indptr = matrix.indptr\n",
    "    \n",
    "    num_doc = matrix.shape[0]\n",
    "\n",
    "    return [{k:v for k,v in zip([table[word_id] for word_id in indices[indptr[i]:indptr[i+1]] ],\n",
    "                                 data[indptr[i]:indptr[i+1]].tolist())} \\\n",
    "               for i in range(num_doc) ]\n",
    "\n",
    "wiki['word_count'] = unpack_dict(word_count, map_index_to_word)\n",
    "wiki.head()"
   ]
  },
  {
   "cell_type": "code",
   "execution_count": 35,
   "metadata": {
    "collapsed": false
   },
   "outputs": [
    {
     "name": "stdout",
     "output_type": "stream",
     "text": [
      "0        {'has': 1, '19982000': 1, 'the': 27, 'forward'...\n",
      "1        {'shifts': 2, '1973': 1, 'current': 1, 'assess...\n",
      "2        {'has': 2, 'what': 2, 'small': 1, 'vancouver':...\n",
      "3        {'1973': 1, 'american': 1, 'hg': 1, 'andersona...\n",
      "4        {'next': 1, 'new': 1, 'record': 2, 'of': 1, 'k...\n",
      "5        {'has': 2, 'strip': 2, 'known': 1, 'new': 4, '...\n",
      "6        {'sponsored': 1, 'delicious': 1, 'later': 1, '...\n",
      "7        {'equally': 1, 'praise': 1, 'kinkajou': 1, 'sa...\n",
      "8        {'1971': 1, 'hardcoredrum': 1, 'known': 2, 'an...\n",
      "9        {'ways': 1, 'professor': 1, 't': 1, 'trauma': ...\n",
      "10       {'inquirer': 1, 'until': 1, 'of': 5, 'clowning...\n",
      "11       {'novelistsshe': 1, 'later': 1, 'saints': 1, '...\n",
      "12       {'has': 1, 'american': 1, 'current': 1, 'of': ...\n",
      "13       {'has': 4, 'british': 1, 'the': 16, 'european'...\n",
      "14       {'several': 1, 'olympic': 1, 'make': 1, 'pursu...\n",
      "15       {'unconventional': 1, 'genres': 1, 'josh': 1, ...\n",
      "16       {'has': 3, 'pocket': 1, 'degree': 1, 'oxford':...\n",
      "17       {'has': 1, 'gaelic': 1, 'hall': 1, '1954': 2, ...\n",
      "18       {'ensemblehe': 1, 'olympic': 1, 'the': 15, 'eu...\n",
      "19       {'transparency': 1, 'ways': 1, 'american': 1, ...\n",
      "20       {'has': 1, 'of': 4, 'the': 21, 'rejoined': 1, ...\n",
      "21       {'the': 23, 'llanelli': 2, 'fullbackthomas': 1...\n",
      "22       {'olympic': 1, 'movement': 1, 'japan': 1, 'imp...\n",
      "23       {'open': 1, 'lone': 1, 'careerafter': 1, 'caus...\n",
      "24       {'later': 1, 'josh': 1, 'movement': 1, 'named'...\n",
      "25       {'later': 1, 'wings': 4, 'hornets': 1, 'ukrain...\n",
      "26       {'opportunity': 1, 'pocket': 1, 'thoughts': 1,...\n",
      "27       {'lecture': 1, 'british': 1, 'called': 2, 'del...\n",
      "28       {'later': 1, 'great': 1, 'american': 1, 'amate...\n",
      "29       {'has': 1, 'family': 2, 'the': 13, 'cleaners':...\n",
      "                               ...                        \n",
      "59041    {'sissoko': 1, 'has': 1, 'of': 7, 'boobahis': ...\n",
      "59042    {'1973': 1, 'american': 1, 'saints': 1, 'lds':...\n",
      "59043    {'atlantic': 1, 'means': 1, 'read': 1, '2013':...\n",
      "59044    {'dealing': 1, 'open': 1, 'later': 2, 'drawn':...\n",
      "59045    {'has': 1, 'british': 1, 'current': 1, 'europe...\n",
      "59046    {'anthonynoel': 1, 'the': 16, 'parts': 4, 'hum...\n",
      "59047    {'has': 1, 'us': 1, 'she': 9, 'critiziced': 1,...\n",
      "59048    {'millers': 1, 'federalist': 1, 'us': 1, 'uses...\n",
      "59049    {'chanson': 1, 'negra': 1, 'anthropology': 1, ...\n",
      "59050    {'1971': 1, 'professor': 1, 'movement': 1, 'wr...\n",
      "59051    {'delhi': 2, 'marathons': 2, 'essa': 1, 'high'...\n",
      "59052    {'has': 1, 'of': 5, 'record': 1, 'professional...\n",
      "59053    {'bolivia': 4, 'reina': 1, 'modeljessica': 1, ...\n",
      "59054    {'placed': 2, 'olympic': 1, 'individual': 4, '...\n",
      "59055    {'1971': 1, 'new': 2, 'the': 21, 'masseshis': ...\n",
      "59056    {'of': 13, 'similarity': 1, 'directed': 1, 'tr...\n",
      "59057    {'american': 2, 'excesses': 1, 'explained': 1,...\n",
      "59058    {'dealing': 1, 'sculpture': 1, 'drawing': 1, '...\n",
      "59059    {'has': 1, 'apache': 1, 'record': 1, 'zevon': ...\n",
      "59060    {'marcia': 1, 'production': 1, 'two': 1, 'cleo...\n",
      "59061    {'has': 1, 'director': 1, 'vice': 2, 'of': 10,...\n",
      "59062    {'1971': 1, 'presiding': 1, 'thenrecord': 1, '...\n",
      "59063    {'placed': 1, 'icty': 2, 'slobodan': 1, '25': ...\n",
      "59064    {'has': 1, 'later': 1, 'university': 2, 'speci...\n",
      "59065    {'later': 1, '44': 1, 'roles': 1, 'american': ...\n",
      "59066    {'1971': 1, 'new': 2, 'us': 1, 'of': 10, 'yomi...\n",
      "59067    {'american': 1, 'us': 1, 'normally': 1, 'paten...\n",
      "59068    {'has': 1, 'forest': 1, 'footballer': 1, 'brok...\n",
      "59069    {'american': 1, 'record': 1, 'new': 3, 'from':...\n",
      "59070    {'family': 1, 'step': 1, 'rehired': 1, 'deport...\n",
      "Name: word_count, dtype: object\n"
     ]
    }
   ],
   "source": [
    "# def top_words(name):\n",
    "#     \"\"\"\n",
    "#     Get a table of the most frequent words in the given person's wikipedia page.\n",
    "#     \"\"\"\n",
    "#     row = wiki[wiki['name'] == name]\n",
    "#     word_count_table = pd.DataFrame.from_dict(row[['word_count']], column=['word','count'])\n",
    "#     return word_count_table.sort('count', ascending=False)\n",
    "# import ast\n",
    "# wiki[\"word_count\"] =  wiki[\"word_count\"].map(lambda d : ast.literal_eval(d))\n",
    "\n",
    "row = wiki[wiki.name == ('Barack Obama')]['word_count']\n",
    "# obama_words = top_words('Barack Obama')\n",
    "# print(obama_words)\n",
    "# obama_words = pd.DataFrame.from_dict(row)\n",
    "# obama_words\n",
    "print(wiki.word_count)\n",
    "\n",
    "# barrio_words = top_words('Francisco Barrio')\n",
    "# print(barrio_words)"
   ]
  },
  {
   "cell_type": "code",
   "execution_count": null,
   "metadata": {
    "collapsed": true
   },
   "outputs": [],
   "source": []
  }
 ],
 "metadata": {
  "kernelspec": {
   "display_name": "Python 3",
   "language": "python",
   "name": "python3"
  },
  "language_info": {
   "codemirror_mode": {
    "name": "ipython",
    "version": 3
   },
   "file_extension": ".py",
   "mimetype": "text/x-python",
   "name": "python",
   "nbconvert_exporter": "python",
   "pygments_lexer": "ipython3",
   "version": "3.5.1"
  }
 },
 "nbformat": 4,
 "nbformat_minor": 0
}
